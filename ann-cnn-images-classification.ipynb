{
 "cells": [
  {
   "cell_type": "markdown",
   "id": "17eca1b7",
   "metadata": {
    "papermill": {
     "duration": 0.006164,
     "end_time": "2024-03-06T20:58:03.121787",
     "exception": false,
     "start_time": "2024-03-06T20:58:03.115623",
     "status": "completed"
    },
    "tags": []
   },
   "source": [
    "## **Import libraries**"
   ]
  },
  {
   "cell_type": "code",
   "execution_count": 1,
   "id": "9dfea652",
   "metadata": {
    "_cell_guid": "b1076dfc-b9ad-4769-8c92-a6c4dae69d19",
    "_uuid": "8f2839f25d086af736a60e9eeb907d3b93b6e0e5",
    "execution": {
     "iopub.execute_input": "2024-03-06T20:58:03.135421Z",
     "iopub.status.busy": "2024-03-06T20:58:03.134780Z",
     "iopub.status.idle": "2024-03-06T20:58:04.000347Z",
     "shell.execute_reply": "2024-03-06T20:58:03.999439Z"
    },
    "papermill": {
     "duration": 0.875633,
     "end_time": "2024-03-06T20:58:04.003072",
     "exception": false,
     "start_time": "2024-03-06T20:58:03.127439",
     "status": "completed"
    },
    "tags": []
   },
   "outputs": [],
   "source": [
    "# This Python 3 environment comes with many helpful analytics libraries installed\n",
    "# It is defined by the kaggle/python Docker image: https://github.com/kaggle/docker-python\n",
    "# For example, here's several helpful packages to load\n",
    "\n",
    "import numpy as np # linear algebra\n",
    "import pandas as pd # data processing, CSV file I/O (e.g. pd.read_csv)\n",
    "\n",
    "# Input data files are available in the read-only \"../input/\" directory\n",
    "# For example, running this (by clicking run or pressing Shift+Enter) will list all files under the input directory\n",
    "\n",
    "import os\n",
    "for dirname, _, filenames in os.walk('/kaggle/input'):\n",
    "    for filename in filenames:\n",
    "        print(os.path.join(dirname, filename))\n",
    "\n",
    "# You can write up to 20GB to the current directory (/kaggle/working/) that gets preserved as output when you create a version using \"Save & Run All\" \n",
    "# You can also write temporary files to /kaggle/temp/, but they won't be saved outside of the current session"
   ]
  },
  {
   "cell_type": "code",
   "execution_count": 2,
   "id": "a57e373b",
   "metadata": {
    "execution": {
     "iopub.execute_input": "2024-03-06T20:58:04.016776Z",
     "iopub.status.busy": "2024-03-06T20:58:04.015976Z",
     "iopub.status.idle": "2024-03-06T20:58:18.304306Z",
     "shell.execute_reply": "2024-03-06T20:58:18.303137Z"
    },
    "papermill": {
     "duration": 14.29861,
     "end_time": "2024-03-06T20:58:18.307515",
     "exception": false,
     "start_time": "2024-03-06T20:58:04.008905",
     "status": "completed"
    },
    "tags": []
   },
   "outputs": [
    {
     "name": "stderr",
     "output_type": "stream",
     "text": [
      "2024-03-06 20:58:06.114032: E external/local_xla/xla/stream_executor/cuda/cuda_dnn.cc:9261] Unable to register cuDNN factory: Attempting to register factory for plugin cuDNN when one has already been registered\n",
      "2024-03-06 20:58:06.114178: E external/local_xla/xla/stream_executor/cuda/cuda_fft.cc:607] Unable to register cuFFT factory: Attempting to register factory for plugin cuFFT when one has already been registered\n",
      "2024-03-06 20:58:06.275537: E external/local_xla/xla/stream_executor/cuda/cuda_blas.cc:1515] Unable to register cuBLAS factory: Attempting to register factory for plugin cuBLAS when one has already been registered\n"
     ]
    }
   ],
   "source": [
    "import tensorflow as tf\n",
    "from tensorflow.keras import datasets , layers, models\n",
    "from sklearn.metrics import confusion_matrix , classification_report\n",
    "import matplotlib.pyplot as plt \n",
    "import warnings \n",
    "warnings.filterwarnings(\"ignore\")"
   ]
  },
  {
   "cell_type": "code",
   "execution_count": 3,
   "id": "c441b841",
   "metadata": {
    "execution": {
     "iopub.execute_input": "2024-03-06T20:58:18.322391Z",
     "iopub.status.busy": "2024-03-06T20:58:18.321721Z",
     "iopub.status.idle": "2024-03-06T20:58:23.452876Z",
     "shell.execute_reply": "2024-03-06T20:58:23.451778Z"
    },
    "papermill": {
     "duration": 5.141121,
     "end_time": "2024-03-06T20:58:23.455466",
     "exception": false,
     "start_time": "2024-03-06T20:58:18.314345",
     "status": "completed"
    },
    "tags": []
   },
   "outputs": [
    {
     "name": "stdout",
     "output_type": "stream",
     "text": [
      "Downloading data from https://www.cs.toronto.edu/~kriz/cifar-10-python.tar.gz\n",
      "\u001b[1m170498071/170498071\u001b[0m \u001b[32m━━━━━━━━━━━━━━━━━━━━\u001b[0m\u001b[37m\u001b[0m \u001b[1m2s\u001b[0m 0us/step\n"
     ]
    },
    {
     "data": {
      "text/plain": [
       "(50000, 32, 32, 3)"
      ]
     },
     "execution_count": 3,
     "metadata": {},
     "output_type": "execute_result"
    }
   ],
   "source": [
    "(X_train, y_train),(X_test, y_test) = datasets.cifar10.load_data()\n",
    "X_train.shape "
   ]
  },
  {
   "cell_type": "code",
   "execution_count": 4,
   "id": "b23934a2",
   "metadata": {
    "execution": {
     "iopub.execute_input": "2024-03-06T20:58:23.475835Z",
     "iopub.status.busy": "2024-03-06T20:58:23.475444Z",
     "iopub.status.idle": "2024-03-06T20:58:23.481816Z",
     "shell.execute_reply": "2024-03-06T20:58:23.480675Z"
    },
    "papermill": {
     "duration": 0.019599,
     "end_time": "2024-03-06T20:58:23.484254",
     "exception": false,
     "start_time": "2024-03-06T20:58:23.464655",
     "status": "completed"
    },
    "tags": []
   },
   "outputs": [
    {
     "data": {
      "text/plain": [
       "(10000, 32, 32, 3)"
      ]
     },
     "execution_count": 4,
     "metadata": {},
     "output_type": "execute_result"
    }
   ],
   "source": [
    "X_test.shape "
   ]
  },
  {
   "cell_type": "markdown",
   "id": "f23f3361",
   "metadata": {
    "papermill": {
     "duration": 0.008437,
     "end_time": "2024-03-06T20:58:23.501553",
     "exception": false,
     "start_time": "2024-03-06T20:58:23.493116",
     "status": "completed"
    },
    "tags": []
   },
   "source": [
    "### **Make data 1D**"
   ]
  },
  {
   "cell_type": "code",
   "execution_count": 5,
   "id": "c6c1a346",
   "metadata": {
    "execution": {
     "iopub.execute_input": "2024-03-06T20:58:23.521082Z",
     "iopub.status.busy": "2024-03-06T20:58:23.520680Z",
     "iopub.status.idle": "2024-03-06T20:58:23.529212Z",
     "shell.execute_reply": "2024-03-06T20:58:23.527035Z"
    },
    "papermill": {
     "duration": 0.020938,
     "end_time": "2024-03-06T20:58:23.531482",
     "exception": false,
     "start_time": "2024-03-06T20:58:23.510544",
     "status": "completed"
    },
    "tags": []
   },
   "outputs": [
    {
     "data": {
      "text/plain": [
       "array([6, 9, 9, 4, 1], dtype=uint8)"
      ]
     },
     "execution_count": 5,
     "metadata": {},
     "output_type": "execute_result"
    }
   ],
   "source": [
    "y_train = y_train.reshape(-1,)\n",
    "y_train[:5]"
   ]
  },
  {
   "cell_type": "code",
   "execution_count": 6,
   "id": "6df0901c",
   "metadata": {
    "execution": {
     "iopub.execute_input": "2024-03-06T20:58:23.552227Z",
     "iopub.status.busy": "2024-03-06T20:58:23.551520Z",
     "iopub.status.idle": "2024-03-06T20:58:23.556319Z",
     "shell.execute_reply": "2024-03-06T20:58:23.555487Z"
    },
    "papermill": {
     "duration": 0.017232,
     "end_time": "2024-03-06T20:58:23.558445",
     "exception": false,
     "start_time": "2024-03-06T20:58:23.541213",
     "status": "completed"
    },
    "tags": []
   },
   "outputs": [],
   "source": [
    "y_test = y_test.reshape(-1,)"
   ]
  },
  {
   "cell_type": "code",
   "execution_count": 7,
   "id": "90854df8",
   "metadata": {
    "execution": {
     "iopub.execute_input": "2024-03-06T20:58:23.580798Z",
     "iopub.status.busy": "2024-03-06T20:58:23.580028Z",
     "iopub.status.idle": "2024-03-06T20:58:23.585258Z",
     "shell.execute_reply": "2024-03-06T20:58:23.584439Z"
    },
    "papermill": {
     "duration": 0.01882,
     "end_time": "2024-03-06T20:58:23.587738",
     "exception": false,
     "start_time": "2024-03-06T20:58:23.568918",
     "status": "completed"
    },
    "tags": []
   },
   "outputs": [],
   "source": [
    "classes = [\"airplane\",\"automobile\",\"bird\",\"cat\",\"deer\",\"dog\",\"frog\",\"horse\",\"ship\",\"truck\"]"
   ]
  },
  {
   "cell_type": "code",
   "execution_count": 8,
   "id": "c2ef0284",
   "metadata": {
    "execution": {
     "iopub.execute_input": "2024-03-06T20:58:23.608171Z",
     "iopub.status.busy": "2024-03-06T20:58:23.607501Z",
     "iopub.status.idle": "2024-03-06T20:58:23.612886Z",
     "shell.execute_reply": "2024-03-06T20:58:23.612021Z"
    },
    "papermill": {
     "duration": 0.018128,
     "end_time": "2024-03-06T20:58:23.615060",
     "exception": false,
     "start_time": "2024-03-06T20:58:23.596932",
     "status": "completed"
    },
    "tags": []
   },
   "outputs": [],
   "source": [
    "def plot_sample(X, y, index):\n",
    "    plt.figure(figsize = (15,2))\n",
    "    plt.imshow(X[index])\n",
    "    plt.xlabel(classes[y[index]])"
   ]
  },
  {
   "cell_type": "code",
   "execution_count": 9,
   "id": "06eccc49",
   "metadata": {
    "execution": {
     "iopub.execute_input": "2024-03-06T20:58:23.634948Z",
     "iopub.status.busy": "2024-03-06T20:58:23.634214Z",
     "iopub.status.idle": "2024-03-06T20:58:25.273609Z",
     "shell.execute_reply": "2024-03-06T20:58:25.272342Z"
    },
    "papermill": {
     "duration": 1.652306,
     "end_time": "2024-03-06T20:58:25.276151",
     "exception": false,
     "start_time": "2024-03-06T20:58:23.623845",
     "status": "completed"
    },
    "tags": []
   },
   "outputs": [
    {
     "data": {
      "image/png": "[encoded data removed]",
      "text/plain": [
       "<Figure size 1500x200 with 1 Axes>"
      ]
     },
     "metadata": {},
     "output_type": "display_data"
    },
    {
     "data": {
      "image/png": "[encoded data removed]",
      "text/plain": [
       "<Figure size 1500x200 with 1 Axes>"
      ]
     },
     "metadata": {},
     "output_type": "display_data"
    },
    {
     "data": {
      "image/png": "[encoded data removed]",
      "text/plain": [
       "<Figure size 1500x200 with 1 Axes>"
      ]
     },
     "metadata": {},
     "output_type": "display_data"
    },
    {
     "data": {
      "image/png": "[encoded data removed]",
      "text/plain": [
       "<Figure size 1500x200 with 1 Axes>"
      ]
     },
     "metadata": {},
     "output_type": "display_data"
    },
    {
     "data": {
      "image/png": "[encoded data removed]",
      "text/plain": [
       "<Figure size 1500x200 with 1 Axes>"
      ]
     },
     "metadata": {},
     "output_type": "display_data"
    },
    {
     "data": {
      "image/png": "[encoded data removed]",
      "text/plain": [
       "<Figure size 1500x200 with 1 Axes>"
      ]
     },
     "metadata": {},
     "output_type": "display_data"
    },
    {
     "data": {
      "image/png": "[encoded data removed]",
      "text/plain": [
       "<Figure size 1500x200 with 1 Axes>"
      ]
     },
     "metadata": {},
     "output_type": "display_data"
    },
    {
     "data": {
      "image/png": "[encoded data removed]",
      "text/plain": [
       "<Figure size 1500x200 with 1 Axes>"
      ]
     },
     "metadata": {},
     "output_type": "display_data"
    },
    {
     "data": {
      "image/png": "[encoded data removed]",
      "text/plain": [
       "<Figure size 1500x200 with 1 Axes>"
      ]
     },
     "metadata": {},
     "output_type": "display_data"
    }
   ],
   "source": [
    "plot_sample(X_train, y_train, 7)\n",
    "plot_sample(X_train, y_train,87)\n",
    "plot_sample(X_train, y_train,107)\n",
    "plot_sample(X_train, y_train, 557)\n",
    "plot_sample(X_train, y_train, 66)\n",
    "plot_sample(X_train, y_train, 70)\n",
    "plot_sample(X_train, y_train, 200)\n",
    "plot_sample(X_train, y_train, 50)\n",
    "plot_sample(X_train, y_train, 800)"
   ]
  },
  {
   "cell_type": "code",
   "execution_count": 10,
   "id": "82b343b4",
   "metadata": {
    "execution": {
     "iopub.execute_input": "2024-03-06T20:58:25.301434Z",
     "iopub.status.busy": "2024-03-06T20:58:25.300999Z",
     "iopub.status.idle": "2024-03-06T20:58:26.025416Z",
     "shell.execute_reply": "2024-03-06T20:58:26.024039Z"
    },
    "papermill": {
     "duration": 0.740394,
     "end_time": "2024-03-06T20:58:26.028047",
     "exception": false,
     "start_time": "2024-03-06T20:58:25.287653",
     "status": "completed"
    },
    "tags": []
   },
   "outputs": [],
   "source": [
    "X_train = X_train / 255.0\n",
    "X_test = X_test / 255.0"
   ]
  },
  {
   "cell_type": "markdown",
   "id": "9259b0dc",
   "metadata": {
    "papermill": {
     "duration": 0.011845,
     "end_time": "2024-03-06T20:58:26.051109",
     "exception": false,
     "start_time": "2024-03-06T20:58:26.039264",
     "status": "completed"
    },
    "tags": []
   },
   "source": [
    "## **ANN model**"
   ]
  },
  {
   "cell_type": "code",
   "execution_count": 11,
   "id": "68b1b935",
   "metadata": {
    "execution": {
     "iopub.execute_input": "2024-03-06T20:58:26.076421Z",
     "iopub.status.busy": "2024-03-06T20:58:26.076027Z",
     "iopub.status.idle": "2024-03-06T21:12:48.278433Z",
     "shell.execute_reply": "2024-03-06T21:12:48.276975Z"
    },
    "papermill": {
     "duration": 862.21884,
     "end_time": "2024-03-06T21:12:48.281329",
     "exception": false,
     "start_time": "2024-03-06T20:58:26.062489",
     "status": "completed"
    },
    "tags": []
   },
   "outputs": [
    {
     "name": "stdout",
     "output_type": "stream",
     "text": [
      "Epoch 1/60\n",
      "\u001b[1m1563/1563\u001b[0m \u001b[32m━━━━━━━━━━━━━━━━━━━━\u001b[0m\u001b[37m\u001b[0m \u001b[1m11s\u001b[0m 7ms/step - accuracy: 0.2919 - loss: 1.9666\n",
      "Epoch 2/60\n",
      "\u001b[1m1563/1563\u001b[0m \u001b[32m━━━━━━━━━━━━━━━━━━━━\u001b[0m\u001b[37m\u001b[0m \u001b[1m21s\u001b[0m 7ms/step - accuracy: 0.4006 - loss: 1.6879\n",
      "Epoch 3/60\n",
      "\u001b[1m1563/1563\u001b[0m \u001b[32m━━━━━━━━━━━━━━━━━━━━\u001b[0m\u001b[37m\u001b[0m \u001b[1m20s\u001b[0m 7ms/step - accuracy: 0.4356 - loss: 1.6005\n",
      "Epoch 4/60\n",
      "\u001b[1m1563/1563\u001b[0m \u001b[32m━━━━━━━━━━━━━━━━━━━━\u001b[0m\u001b[37m\u001b[0m \u001b[1m20s\u001b[0m 7ms/step - accuracy: 0.4623 - loss: 1.5307\n",
      "Epoch 5/60\n",
      "\u001b[1m1563/1563\u001b[0m \u001b[32m━━━━━━━━━━━━━━━━━━━━\u001b[0m\u001b[37m\u001b[0m \u001b[1m21s\u001b[0m 7ms/step - accuracy: 0.4744 - loss: 1.4838\n",
      "Epoch 6/60\n",
      "\u001b[1m1563/1563\u001b[0m \u001b[32m━━━━━━━━━━━━━━━━━━━━\u001b[0m\u001b[37m\u001b[0m \u001b[1m10s\u001b[0m 7ms/step - accuracy: 0.4931 - loss: 1.4394\n",
      "Epoch 7/60\n",
      "\u001b[1m1563/1563\u001b[0m \u001b[32m━━━━━━━━━━━━━━━━━━━━\u001b[0m\u001b[37m\u001b[0m \u001b[1m10s\u001b[0m 7ms/step - accuracy: 0.5008 - loss: 1.4102\n",
      "Epoch 8/60\n",
      "\u001b[1m1563/1563\u001b[0m \u001b[32m━━━━━━━━━━━━━━━━━━━━\u001b[0m\u001b[37m\u001b[0m \u001b[1m21s\u001b[0m 7ms/step - accuracy: 0.5155 - loss: 1.3812\n",
      "Epoch 9/60\n",
      "\u001b[1m1563/1563\u001b[0m \u001b[32m━━━━━━━━━━━━━━━━━━━━\u001b[0m\u001b[37m\u001b[0m \u001b[1m11s\u001b[0m 7ms/step - accuracy: 0.5237 - loss: 1.3528\n",
      "Epoch 10/60\n",
      "\u001b[1m1563/1563\u001b[0m \u001b[32m━━━━━━━━━━━━━━━━━━━━\u001b[0m\u001b[37m\u001b[0m \u001b[1m11s\u001b[0m 7ms/step - accuracy: 0.5379 - loss: 1.3223\n",
      "Epoch 11/60\n",
      "\u001b[1m1563/1563\u001b[0m \u001b[32m━━━━━━━━━━━━━━━━━━━━\u001b[0m\u001b[37m\u001b[0m \u001b[1m20s\u001b[0m 7ms/step - accuracy: 0.5420 - loss: 1.2947\n",
      "Epoch 12/60\n",
      "\u001b[1m1563/1563\u001b[0m \u001b[32m━━━━━━━━━━━━━━━━━━━━\u001b[0m\u001b[37m\u001b[0m \u001b[1m10s\u001b[0m 7ms/step - accuracy: 0.5547 - loss: 1.2678\n",
      "Epoch 13/60\n",
      "\u001b[1m1563/1563\u001b[0m \u001b[32m━━━━━━━━━━━━━━━━━━━━\u001b[0m\u001b[37m\u001b[0m \u001b[1m21s\u001b[0m 7ms/step - accuracy: 0.5593 - loss: 1.2516\n",
      "Epoch 14/60\n",
      "\u001b[1m1563/1563\u001b[0m \u001b[32m━━━━━━━━━━━━━━━━━━━━\u001b[0m\u001b[37m\u001b[0m \u001b[1m11s\u001b[0m 7ms/step - accuracy: 0.5684 - loss: 1.2265\n",
      "Epoch 15/60\n",
      "\u001b[1m1563/1563\u001b[0m \u001b[32m━━━━━━━━━━━━━━━━━━━━\u001b[0m\u001b[37m\u001b[0m \u001b[1m11s\u001b[0m 7ms/step - accuracy: 0.5770 - loss: 1.2061\n",
      "Epoch 16/60\n",
      "\u001b[1m1563/1563\u001b[0m \u001b[32m━━━━━━━━━━━━━━━━━━━━\u001b[0m\u001b[37m\u001b[0m \u001b[1m21s\u001b[0m 7ms/step - accuracy: 0.5817 - loss: 1.1925\n",
      "Epoch 17/60\n",
      "\u001b[1m1563/1563\u001b[0m \u001b[32m━━━━━━━━━━━━━━━━━━━━\u001b[0m\u001b[37m\u001b[0m \u001b[1m11s\u001b[0m 7ms/step - accuracy: 0.5852 - loss: 1.1733\n",
      "Epoch 18/60\n",
      "\u001b[1m1563/1563\u001b[0m \u001b[32m━━━━━━━━━━━━━━━━━━━━\u001b[0m\u001b[37m\u001b[0m \u001b[1m11s\u001b[0m 7ms/step - accuracy: 0.5954 - loss: 1.1505\n",
      "Epoch 19/60\n",
      "\u001b[1m1563/1563\u001b[0m \u001b[32m━━━━━━━━━━━━━━━━━━━━\u001b[0m\u001b[37m\u001b[0m \u001b[1m21s\u001b[0m 7ms/step - accuracy: 0.6056 - loss: 1.1234\n",
      "Epoch 20/60\n",
      "\u001b[1m1563/1563\u001b[0m \u001b[32m━━━━━━━━━━━━━━━━━━━━\u001b[0m\u001b[37m\u001b[0m \u001b[1m20s\u001b[0m 7ms/step - accuracy: 0.6055 - loss: 1.1080\n",
      "Epoch 21/60\n",
      "\u001b[1m1563/1563\u001b[0m \u001b[32m━━━━━━━━━━━━━━━━━━━━\u001b[0m\u001b[37m\u001b[0m \u001b[1m11s\u001b[0m 7ms/step - accuracy: 0.6190 - loss: 1.0918\n",
      "Epoch 22/60\n",
      "\u001b[1m1563/1563\u001b[0m \u001b[32m━━━━━━━━━━━━━━━━━━━━\u001b[0m\u001b[37m\u001b[0m \u001b[1m11s\u001b[0m 7ms/step - accuracy: 0.6244 - loss: 1.0677\n",
      "Epoch 23/60\n",
      "\u001b[1m1563/1563\u001b[0m \u001b[32m━━━━━━━━━━━━━━━━━━━━\u001b[0m\u001b[37m\u001b[0m \u001b[1m11s\u001b[0m 7ms/step - accuracy: 0.6345 - loss: 1.0444\n",
      "Epoch 24/60\n",
      "\u001b[1m1563/1563\u001b[0m \u001b[32m━━━━━━━━━━━━━━━━━━━━\u001b[0m\u001b[37m\u001b[0m \u001b[1m11s\u001b[0m 7ms/step - accuracy: 0.6364 - loss: 1.0329\n",
      "Epoch 25/60\n",
      "\u001b[1m1563/1563\u001b[0m \u001b[32m━━━━━━━━━━━━━━━━━━━━\u001b[0m\u001b[37m\u001b[0m \u001b[1m11s\u001b[0m 7ms/step - accuracy: 0.6475 - loss: 1.0075\n",
      "Epoch 26/60\n",
      "\u001b[1m1563/1563\u001b[0m \u001b[32m━━━━━━━━━━━━━━━━━━━━\u001b[0m\u001b[37m\u001b[0m \u001b[1m11s\u001b[0m 7ms/step - accuracy: 0.6460 - loss: 1.0010\n",
      "Epoch 27/60\n",
      "\u001b[1m1563/1563\u001b[0m \u001b[32m━━━━━━━━━━━━━━━━━━━━\u001b[0m\u001b[37m\u001b[0m \u001b[1m11s\u001b[0m 7ms/step - accuracy: 0.6572 - loss: 0.9724\n",
      "Epoch 28/60\n",
      "\u001b[1m1563/1563\u001b[0m \u001b[32m━━━━━━━━━━━━━━━━━━━━\u001b[0m\u001b[37m\u001b[0m \u001b[1m11s\u001b[0m 7ms/step - accuracy: 0.6649 - loss: 0.9626\n",
      "Epoch 29/60\n",
      "\u001b[1m1563/1563\u001b[0m \u001b[32m━━━━━━━━━━━━━━━━━━━━\u001b[0m\u001b[37m\u001b[0m \u001b[1m21s\u001b[0m 7ms/step - accuracy: 0.6719 - loss: 0.9377\n",
      "Epoch 30/60\n",
      "\u001b[1m1563/1563\u001b[0m \u001b[32m━━━━━━━━━━━━━━━━━━━━\u001b[0m\u001b[37m\u001b[0m \u001b[1m21s\u001b[0m 7ms/step - accuracy: 0.6778 - loss: 0.9187\n",
      "Epoch 31/60\n",
      "\u001b[1m1563/1563\u001b[0m \u001b[32m━━━━━━━━━━━━━━━━━━━━\u001b[0m\u001b[37m\u001b[0m \u001b[1m20s\u001b[0m 7ms/step - accuracy: 0.6864 - loss: 0.9057\n",
      "Epoch 32/60\n",
      "\u001b[1m1563/1563\u001b[0m \u001b[32m━━━━━━━━━━━━━━━━━━━━\u001b[0m\u001b[37m\u001b[0m \u001b[1m11s\u001b[0m 7ms/step - accuracy: 0.6845 - loss: 0.8985\n",
      "Epoch 33/60\n",
      "\u001b[1m1563/1563\u001b[0m \u001b[32m━━━━━━━━━━━━━━━━━━━━\u001b[0m\u001b[37m\u001b[0m \u001b[1m11s\u001b[0m 7ms/step - accuracy: 0.6964 - loss: 0.8659\n",
      "Epoch 34/60\n",
      "\u001b[1m1563/1563\u001b[0m \u001b[32m━━━━━━━━━━━━━━━━━━━━\u001b[0m\u001b[37m\u001b[0m \u001b[1m11s\u001b[0m 7ms/step - accuracy: 0.7030 - loss: 0.8532\n",
      "Epoch 35/60\n",
      "\u001b[1m1563/1563\u001b[0m \u001b[32m━━━━━━━━━━━━━━━━━━━━\u001b[0m\u001b[37m\u001b[0m \u001b[1m11s\u001b[0m 7ms/step - accuracy: 0.7109 - loss: 0.8322\n",
      "Epoch 36/60\n",
      "\u001b[1m1563/1563\u001b[0m \u001b[32m━━━━━━━━━━━━━━━━━━━━\u001b[0m\u001b[37m\u001b[0m \u001b[1m11s\u001b[0m 7ms/step - accuracy: 0.7173 - loss: 0.8184\n",
      "Epoch 37/60\n",
      "\u001b[1m1563/1563\u001b[0m \u001b[32m━━━━━━━━━━━━━━━━━━━━\u001b[0m\u001b[37m\u001b[0m \u001b[1m21s\u001b[0m 7ms/step - accuracy: 0.7234 - loss: 0.7974\n",
      "Epoch 38/60\n",
      "\u001b[1m1563/1563\u001b[0m \u001b[32m━━━━━━━━━━━━━━━━━━━━\u001b[0m\u001b[37m\u001b[0m \u001b[1m11s\u001b[0m 7ms/step - accuracy: 0.7281 - loss: 0.7827\n",
      "Epoch 39/60\n",
      "\u001b[1m1563/1563\u001b[0m \u001b[32m━━━━━━━━━━━━━━━━━━━━\u001b[0m\u001b[37m\u001b[0m \u001b[1m11s\u001b[0m 7ms/step - accuracy: 0.7383 - loss: 0.7578\n",
      "Epoch 40/60\n",
      "\u001b[1m1563/1563\u001b[0m \u001b[32m━━━━━━━━━━━━━━━━━━━━\u001b[0m\u001b[37m\u001b[0m \u001b[1m11s\u001b[0m 7ms/step - accuracy: 0.7429 - loss: 0.7409\n",
      "Epoch 41/60\n",
      "\u001b[1m1563/1563\u001b[0m \u001b[32m━━━━━━━━━━━━━━━━━━━━\u001b[0m\u001b[37m\u001b[0m \u001b[1m10s\u001b[0m 7ms/step - accuracy: 0.7474 - loss: 0.7306\n",
      "Epoch 42/60\n",
      "\u001b[1m1563/1563\u001b[0m \u001b[32m━━━━━━━━━━━━━━━━━━━━\u001b[0m\u001b[37m\u001b[0m \u001b[1m21s\u001b[0m 7ms/step - accuracy: 0.7529 - loss: 0.7095\n",
      "Epoch 43/60\n",
      "\u001b[1m1563/1563\u001b[0m \u001b[32m━━━━━━━━━━━━━━━━━━━━\u001b[0m\u001b[37m\u001b[0m \u001b[1m20s\u001b[0m 7ms/step - accuracy: 0.7571 - loss: 0.6976\n",
      "Epoch 44/60\n",
      "\u001b[1m1563/1563\u001b[0m \u001b[32m━━━━━━━━━━━━━━━━━━━━\u001b[0m\u001b[37m\u001b[0m \u001b[1m21s\u001b[0m 7ms/step - accuracy: 0.7653 - loss: 0.6772\n",
      "Epoch 45/60\n",
      "\u001b[1m1563/1563\u001b[0m \u001b[32m━━━━━━━━━━━━━━━━━━━━\u001b[0m\u001b[37m\u001b[0m \u001b[1m10s\u001b[0m 7ms/step - accuracy: 0.7726 - loss: 0.6615\n",
      "Epoch 46/60\n",
      "\u001b[1m1563/1563\u001b[0m \u001b[32m━━━━━━━━━━━━━━━━━━━━\u001b[0m\u001b[37m\u001b[0m \u001b[1m21s\u001b[0m 7ms/step - accuracy: 0.7761 - loss: 0.6483\n",
      "Epoch 47/60\n",
      "\u001b[1m1563/1563\u001b[0m \u001b[32m━━━━━━━━━━━━━━━━━━━━\u001b[0m\u001b[37m\u001b[0m \u001b[1m20s\u001b[0m 7ms/step - accuracy: 0.7819 - loss: 0.6351\n",
      "Epoch 48/60\n",
      "\u001b[1m1563/1563\u001b[0m \u001b[32m━━━━━━━━━━━━━━━━━━━━\u001b[0m\u001b[37m\u001b[0m \u001b[1m11s\u001b[0m 7ms/step - accuracy: 0.7900 - loss: 0.6096\n",
      "Epoch 49/60\n",
      "\u001b[1m1563/1563\u001b[0m \u001b[32m━━━━━━━━━━━━━━━━━━━━\u001b[0m\u001b[37m\u001b[0m \u001b[1m10s\u001b[0m 7ms/step - accuracy: 0.7932 - loss: 0.5952\n",
      "Epoch 50/60\n",
      "\u001b[1m1563/1563\u001b[0m \u001b[32m━━━━━━━━━━━━━━━━━━━━\u001b[0m\u001b[37m\u001b[0m \u001b[1m11s\u001b[0m 7ms/step - accuracy: 0.7989 - loss: 0.5818\n",
      "Epoch 51/60\n",
      "\u001b[1m1563/1563\u001b[0m \u001b[32m━━━━━━━━━━━━━━━━━━━━\u001b[0m\u001b[37m\u001b[0m \u001b[1m11s\u001b[0m 7ms/step - accuracy: 0.8087 - loss: 0.5639\n",
      "Epoch 52/60\n",
      "\u001b[1m1563/1563\u001b[0m \u001b[32m━━━━━━━━━━━━━━━━━━━━\u001b[0m\u001b[37m\u001b[0m \u001b[1m11s\u001b[0m 7ms/step - accuracy: 0.8117 - loss: 0.5482\n",
      "Epoch 53/60\n",
      "\u001b[1m1563/1563\u001b[0m \u001b[32m━━━━━━━━━━━━━━━━━━━━\u001b[0m\u001b[37m\u001b[0m \u001b[1m11s\u001b[0m 7ms/step - accuracy: 0.8174 - loss: 0.5343\n",
      "Epoch 54/60\n",
      "\u001b[1m1563/1563\u001b[0m \u001b[32m━━━━━━━━━━━━━━━━━━━━\u001b[0m\u001b[37m\u001b[0m \u001b[1m11s\u001b[0m 7ms/step - accuracy: 0.8258 - loss: 0.5209\n",
      "Epoch 55/60\n",
      "\u001b[1m1563/1563\u001b[0m \u001b[32m━━━━━━━━━━━━━━━━━━━━\u001b[0m\u001b[37m\u001b[0m \u001b[1m11s\u001b[0m 7ms/step - accuracy: 0.8261 - loss: 0.5076\n",
      "Epoch 56/60\n",
      "\u001b[1m1563/1563\u001b[0m \u001b[32m━━━━━━━━━━━━━━━━━━━━\u001b[0m\u001b[37m\u001b[0m \u001b[1m21s\u001b[0m 7ms/step - accuracy: 0.8368 - loss: 0.4823\n",
      "Epoch 57/60\n",
      "\u001b[1m1563/1563\u001b[0m \u001b[32m━━━━━━━━━━━━━━━━━━━━\u001b[0m\u001b[37m\u001b[0m \u001b[1m11s\u001b[0m 7ms/step - accuracy: 0.8420 - loss: 0.4723\n",
      "Epoch 58/60\n",
      "\u001b[1m1563/1563\u001b[0m \u001b[32m━━━━━━━━━━━━━━━━━━━━\u001b[0m\u001b[37m\u001b[0m \u001b[1m21s\u001b[0m 7ms/step - accuracy: 0.8416 - loss: 0.4661\n",
      "Epoch 59/60\n",
      "\u001b[1m1563/1563\u001b[0m \u001b[32m━━━━━━━━━━━━━━━━━━━━\u001b[0m\u001b[37m\u001b[0m \u001b[1m11s\u001b[0m 7ms/step - accuracy: 0.8475 - loss: 0.4512\n",
      "Epoch 60/60\n",
      "\u001b[1m1563/1563\u001b[0m \u001b[32m━━━━━━━━━━━━━━━━━━━━\u001b[0m\u001b[37m\u001b[0m \u001b[1m11s\u001b[0m 7ms/step - accuracy: 0.8563 - loss: 0.4366\n"
     ]
    },
    {
     "data": {
      "text/plain": [
       "<keras.src.callbacks.history.History at 0x79580c532bc0>"
      ]
     },
     "execution_count": 11,
     "metadata": {},
     "output_type": "execute_result"
    }
   ],
   "source": [
    "ann = models.Sequential([\n",
    "        layers.Flatten(input_shape=(32,32,3)), #flatten makes it 1D instead of 2D\n",
    "        layers.Dense(500, activation='relu'),\n",
    "        layers.Dense(400, activation='relu'),\n",
    "        layers.Dense(10, activation='sigmoid')#10 neurals because we have 10 classes     \n",
    "    ])\n",
    "\n",
    "ann.compile(optimizer='SGD',  #Stochastic Gradient Descent\n",
    "              loss='sparse_categorical_crossentropy', \n",
    "              metrics=['accuracy'])\n",
    "\n",
    "ann.fit(X_train, y_train, epochs=60)"
   ]
  },
  {
   "cell_type": "code",
   "execution_count": 12,
   "id": "7ee72ebc",
   "metadata": {
    "execution": {
     "iopub.execute_input": "2024-03-06T21:12:50.024758Z",
     "iopub.status.busy": "2024-03-06T21:12:50.023741Z",
     "iopub.status.idle": "2024-03-06T21:12:51.763239Z",
     "shell.execute_reply": "2024-03-06T21:12:51.762031Z"
    },
    "papermill": {
     "duration": 2.642789,
     "end_time": "2024-03-06T21:12:51.765506",
     "exception": false,
     "start_time": "2024-03-06T21:12:49.122717",
     "status": "completed"
    },
    "tags": []
   },
   "outputs": [
    {
     "name": "stdout",
     "output_type": "stream",
     "text": [
      "\u001b[1m313/313\u001b[0m \u001b[32m━━━━━━━━━━━━━━━━━━━━\u001b[0m\u001b[37m\u001b[0m \u001b[1m1s\u001b[0m 4ms/step - accuracy: 0.5328 - loss: 1.7268\n"
     ]
    },
    {
     "data": {
      "text/plain": [
       "[1.7254239320755005, 0.5333999991416931]"
      ]
     },
     "execution_count": 12,
     "metadata": {},
     "output_type": "execute_result"
    }
   ],
   "source": [
    "ann.evaluate(X_test, y_test) # retun loss and accuracy of test data"
   ]
  },
  {
   "cell_type": "markdown",
   "id": "dd55490c",
   "metadata": {
    "papermill": {
     "duration": 0.881169,
     "end_time": "2024-03-06T21:12:53.462392",
     "exception": false,
     "start_time": "2024-03-06T21:12:52.581223",
     "status": "completed"
    },
    "tags": []
   },
   "source": [
    "### **Classification Report**"
   ]
  },
  {
   "cell_type": "code",
   "execution_count": 13,
   "id": "f7c13176",
   "metadata": {
    "execution": {
     "iopub.execute_input": "2024-03-06T21:12:55.169859Z",
     "iopub.status.busy": "2024-03-06T21:12:55.168474Z",
     "iopub.status.idle": "2024-03-06T21:12:56.994927Z",
     "shell.execute_reply": "2024-03-06T21:12:56.993377Z"
    },
    "papermill": {
     "duration": 2.71046,
     "end_time": "2024-03-06T21:12:56.997260",
     "exception": false,
     "start_time": "2024-03-06T21:12:54.286800",
     "status": "completed"
    },
    "tags": []
   },
   "outputs": [
    {
     "name": "stdout",
     "output_type": "stream",
     "text": [
      "\u001b[1m313/313\u001b[0m \u001b[32m━━━━━━━━━━━━━━━━━━━━\u001b[0m\u001b[37m\u001b[0m \u001b[1m1s\u001b[0m 4ms/step\n",
      "Classification Report: \n",
      "               precision    recall  f1-score   support\n",
      "\n",
      "           0       0.41      0.84      0.55      1000\n",
      "           1       0.66      0.66      0.66      1000\n",
      "           2       0.45      0.41      0.43      1000\n",
      "           3       0.44      0.24      0.31      1000\n",
      "           4       0.50      0.40      0.45      1000\n",
      "           5       0.49      0.45      0.47      1000\n",
      "           6       0.56      0.65      0.60      1000\n",
      "           7       0.64      0.59      0.61      1000\n",
      "           8       0.77      0.49      0.60      1000\n",
      "           9       0.59      0.60      0.59      1000\n",
      "\n",
      "    accuracy                           0.53     10000\n",
      "   macro avg       0.55      0.53      0.53     10000\n",
      "weighted avg       0.55      0.53      0.53     10000\n",
      "\n"
     ]
    }
   ],
   "source": [
    "#the report gives you the accuracy of each class \n",
    "y_pred = ann.predict(X_test)\n",
    "y_pred_classes = [np.argmax(element) for element in y_pred]\n",
    "\n",
    "print(\"Classification Report: \\n\", classification_report(y_test, y_pred_classes))"
   ]
  },
  {
   "cell_type": "markdown",
   "id": "4db3f838",
   "metadata": {
    "papermill": {
     "duration": 0.894811,
     "end_time": "2024-03-06T21:12:58.711451",
     "exception": false,
     "start_time": "2024-03-06T21:12:57.816640",
     "status": "completed"
    },
    "tags": []
   },
   "source": [
    "## **CNN model**"
   ]
  },
  {
   "cell_type": "code",
   "execution_count": 14,
   "id": "9fa444f1",
   "metadata": {
    "execution": {
     "iopub.execute_input": "2024-03-06T21:13:00.433519Z",
     "iopub.status.busy": "2024-03-06T21:13:00.432599Z",
     "iopub.status.idle": "2024-03-06T21:13:00.484631Z",
     "shell.execute_reply": "2024-03-06T21:13:00.483647Z"
    },
    "papermill": {
     "duration": 0.937941,
     "end_time": "2024-03-06T21:13:00.487169",
     "exception": false,
     "start_time": "2024-03-06T21:12:59.549228",
     "status": "completed"
    },
    "tags": []
   },
   "outputs": [],
   "source": [
    "cnn = models.Sequential([\n",
    "    layers.Conv2D(filters=64, kernel_size=(3, 3), activation=\"relu\",input_shape=(32,32,3)),\n",
    "    layers.MaxPool2D((2,2)),\n",
    "    \n",
    "    layers.Conv2D(filters=64, kernel_size=(3, 3), activation=\"relu\"),\n",
    "    layers.MaxPool2D((2,2)),\n",
    "    \n",
    "    layers.Flatten(),\n",
    "    layers.Dense(64,activation=\"relu\"),\n",
    "    layers.Dense(10,activation=\"softmax\")\n",
    "])"
   ]
  },
  {
   "cell_type": "code",
   "execution_count": 15,
   "id": "44eb6a39",
   "metadata": {
    "execution": {
     "iopub.execute_input": "2024-03-06T21:13:02.189156Z",
     "iopub.status.busy": "2024-03-06T21:13:02.188724Z",
     "iopub.status.idle": "2024-03-06T21:13:02.199468Z",
     "shell.execute_reply": "2024-03-06T21:13:02.198365Z"
    },
    "papermill": {
     "duration": 0.905093,
     "end_time": "2024-03-06T21:13:02.201947",
     "exception": false,
     "start_time": "2024-03-06T21:13:01.296854",
     "status": "completed"
    },
    "tags": []
   },
   "outputs": [],
   "source": [
    "cnn.compile(optimizer=\"adam\",\n",
    "           loss=\"sparse_categorical_crossentropy\",\n",
    "           metrics=[\"accuracy\"])"
   ]
  },
  {
   "cell_type": "code",
   "execution_count": 16,
   "id": "8151fd38",
   "metadata": {
    "execution": {
     "iopub.execute_input": "2024-03-06T21:13:03.895653Z",
     "iopub.status.busy": "2024-03-06T21:13:03.895194Z",
     "iopub.status.idle": "2024-03-06T21:25:04.078476Z",
     "shell.execute_reply": "2024-03-06T21:25:04.077449Z"
    },
    "papermill": {
     "duration": 721.069542,
     "end_time": "2024-03-06T21:25:04.080869",
     "exception": false,
     "start_time": "2024-03-06T21:13:03.011327",
     "status": "completed"
    },
    "tags": []
   },
   "outputs": [
    {
     "name": "stdout",
     "output_type": "stream",
     "text": [
      "Epoch 1/10\n",
      "\u001b[1m1563/1563\u001b[0m \u001b[32m━━━━━━━━━━━━━━━━━━━━\u001b[0m\u001b[37m\u001b[0m \u001b[1m50s\u001b[0m 31ms/step - accuracy: 0.3816 - loss: 1.6815\n",
      "Epoch 2/10\n",
      "\u001b[1m1563/1563\u001b[0m \u001b[32m━━━━━━━━━━━━━━━━━━━━\u001b[0m\u001b[37m\u001b[0m \u001b[1m82s\u001b[0m 31ms/step - accuracy: 0.6006 - loss: 1.1370\n",
      "Epoch 3/10\n",
      "\u001b[1m1563/1563\u001b[0m \u001b[32m━━━━━━━━━━━━━━━━━━━━\u001b[0m\u001b[37m\u001b[0m \u001b[1m82s\u001b[0m 31ms/step - accuracy: 0.6543 - loss: 0.9909\n",
      "Epoch 4/10\n",
      "\u001b[1m1563/1563\u001b[0m \u001b[32m━━━━━━━━━━━━━━━━━━━━\u001b[0m\u001b[37m\u001b[0m \u001b[1m49s\u001b[0m 31ms/step - accuracy: 0.6906 - loss: 0.8979\n",
      "Epoch 5/10\n",
      "\u001b[1m1563/1563\u001b[0m \u001b[32m━━━━━━━━━━━━━━━━━━━━\u001b[0m\u001b[37m\u001b[0m \u001b[1m81s\u001b[0m 30ms/step - accuracy: 0.7138 - loss: 0.8174\n",
      "Epoch 6/10\n",
      "\u001b[1m1563/1563\u001b[0m \u001b[32m━━━━━━━━━━━━━━━━━━━━\u001b[0m\u001b[37m\u001b[0m \u001b[1m82s\u001b[0m 31ms/step - accuracy: 0.7350 - loss: 0.7563\n",
      "Epoch 7/10\n",
      "\u001b[1m1563/1563\u001b[0m \u001b[32m━━━━━━━━━━━━━━━━━━━━\u001b[0m\u001b[37m\u001b[0m \u001b[1m82s\u001b[0m 30ms/step - accuracy: 0.7491 - loss: 0.7216\n",
      "Epoch 8/10\n",
      "\u001b[1m1563/1563\u001b[0m \u001b[32m━━━━━━━━━━━━━━━━━━━━\u001b[0m\u001b[37m\u001b[0m \u001b[1m49s\u001b[0m 31ms/step - accuracy: 0.7729 - loss: 0.6566\n",
      "Epoch 9/10\n",
      "\u001b[1m1563/1563\u001b[0m \u001b[32m━━━━━━━━━━━━━━━━━━━━\u001b[0m\u001b[37m\u001b[0m \u001b[1m83s\u001b[0m 32ms/step - accuracy: 0.7816 - loss: 0.6259\n",
      "Epoch 10/10\n",
      "\u001b[1m1563/1563\u001b[0m \u001b[32m━━━━━━━━━━━━━━━━━━━━\u001b[0m\u001b[37m\u001b[0m \u001b[1m80s\u001b[0m 31ms/step - accuracy: 0.7909 - loss: 0.5874\n"
     ]
    },
    {
     "data": {
      "text/plain": [
       "<keras.src.callbacks.history.History at 0x7958054f7070>"
      ]
     },
     "execution_count": 16,
     "metadata": {},
     "output_type": "execute_result"
    }
   ],
   "source": [
    "cnn.fit(X_train, y_train, epochs=10)"
   ]
  },
  {
   "cell_type": "code",
   "execution_count": 17,
   "id": "5aba067d",
   "metadata": {
    "execution": {
     "iopub.execute_input": "2024-03-06T21:25:06.874176Z",
     "iopub.status.busy": "2024-03-06T21:25:06.873273Z",
     "iopub.status.idle": "2024-03-06T21:25:10.571422Z",
     "shell.execute_reply": "2024-03-06T21:25:10.570413Z"
    },
    "papermill": {
     "duration": 5.058671,
     "end_time": "2024-03-06T21:25:10.573589",
     "exception": false,
     "start_time": "2024-03-06T21:25:05.514918",
     "status": "completed"
    },
    "tags": []
   },
   "outputs": [
    {
     "name": "stdout",
     "output_type": "stream",
     "text": [
      "\u001b[1m313/313\u001b[0m \u001b[32m━━━━━━━━━━━━━━━━━━━━\u001b[0m\u001b[37m\u001b[0m \u001b[1m3s\u001b[0m 10ms/step - accuracy: 0.7069 - loss: 0.8953\n"
     ]
    },
    {
     "data": {
      "text/plain": [
       "[0.9070240259170532, 0.7016000151634216]"
      ]
     },
     "execution_count": 17,
     "metadata": {},
     "output_type": "execute_result"
    }
   ],
   "source": [
    "cnn.evaluate(X_test,y_test)"
   ]
  },
  {
   "cell_type": "code",
   "execution_count": 18,
   "id": "5f28f445",
   "metadata": {
    "execution": {
     "iopub.execute_input": "2024-03-06T21:25:13.407797Z",
     "iopub.status.busy": "2024-03-06T21:25:13.406614Z",
     "iopub.status.idle": "2024-03-06T21:25:13.544746Z",
     "shell.execute_reply": "2024-03-06T21:25:13.543501Z"
    },
    "papermill": {
     "duration": 1.566434,
     "end_time": "2024-03-06T21:25:13.547678",
     "exception": false,
     "start_time": "2024-03-06T21:25:11.981244",
     "status": "completed"
    },
    "tags": []
   },
   "outputs": [
    {
     "data": {
      "image/png": "[encoded data removed]",
      "text/plain": [
       "<Figure size 1500x200 with 1 Axes>"
      ]
     },
     "metadata": {},
     "output_type": "display_data"
    }
   ],
   "source": [
    "plot_sample(X_test, y_test,800)"
   ]
  },
  {
   "cell_type": "code",
   "execution_count": null,
   "id": "ad9fa85b",
   "metadata": {
    "papermill": {
     "duration": 1.468906,
     "end_time": "2024-03-06T21:25:16.454424",
     "exception": false,
     "start_time": "2024-03-06T21:25:14.985518",
     "status": "completed"
    },
    "tags": []
   },
   "outputs": [],
   "source": []
  }
 ],
 "metadata": {
  "kaggle": {
   "accelerator": "none",
   "dataSources": [],
   "dockerImageVersionId": 30664,
   "isGpuEnabled": false,
   "isInternetEnabled": true,
   "language": "python",
   "sourceType": "notebook"
  },
  "kernelspec": {
   "display_name": "Python 3",
   "language": "python",
   "name": "python3"
  },
  "language_info": {
   "codemirror_mode": {
    "name": "ipython",
    "version": 3
   },
   "file_extension": ".py",
   "mimetype": "text/x-python",
   "name": "python",
   "nbconvert_exporter": "python",
   "pygments_lexer": "ipython3",
   "version": "3.10.13"
  },
  "papermill": {
   "default_parameters": {},
   "duration": 1639.360333,
   "end_time": "2024-03-06T21:25:19.663621",
   "environment_variables": {},
   "exception": null,
   "input_path": "__notebook__.ipynb",
   "output_path": "__notebook__.ipynb",
   "parameters": {},
   "start_time": "2024-03-06T20:58:00.303288",
   "version": "2.5.0"
  }
 },
 "nbformat": 4,
 "nbformat_minor": 5
}
